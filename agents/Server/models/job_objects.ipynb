{
 "cells": [
  {
   "cell_type": "code",
   "id": "initial_id",
   "metadata": {
    "collapsed": true,
    "ExecuteTime": {
     "end_time": "2024-12-06T09:46:13.930101Z",
     "start_time": "2024-12-06T09:46:13.924100Z"
    }
   },
   "source": [
    "import json\n",
    "import os\n",
    "from pymongo import MongoClient\n",
    "\n",
    "from agents.Server.db import get_db"
   ],
   "outputs": [],
   "execution_count": 6
  },
  {
   "metadata": {
    "ExecuteTime": {
     "end_time": "2024-12-06T09:46:14.769337Z",
     "start_time": "2024-12-06T09:46:14.763866Z"
    }
   },
   "cell_type": "code",
   "source": [
    "def insert_jobs_from_json(file_path):\n",
    "    try:\n",
    "        db = get_db()\n",
    "        jobs_collection = db.jobs\n",
    "        with open(file_path, 'r', encoding='utf-8') as file:\n",
    "            jobs = json.load(file)\n",
    "            if isinstance(jobs, list):\n",
    "                source_name = os.path.basename(file_path).replace('.json', '')\n",
    "\n",
    "                # Add the source field to each job\n",
    "                for job in jobs:\n",
    "                    job[\"FROM\"] = source_name\n",
    "\n",
    "                result = jobs_collection.insert_many(jobs)\n",
    "                print(f\"{len(result.inserted_ids)} jobs successfully inserted from {source_name}!\")\n",
    "            else:\n",
    "                print(\"The JSON file_manager.py must contain a list of job objects.\")\n",
    "    except Exception as e:\n",
    "        print(f\"Error inserting jobs from {file_path}: {e}\")\n"
   ],
   "id": "c5e7b06ff1a41d25",
   "outputs": [],
   "execution_count": 7
  },
  {
   "metadata": {},
   "cell_type": "code",
   "source": [
    "def insert_jobs_from_json_updated(file_path):\n",
    "    db = get_db()\n",
    "    jobs_collection = db['jobs_collection']\n",
    "    try:\n",
    "        with open(file_path, 'r', encoding='utf-8') as file:\n",
    "            # Determine if the file_manager.py is JSON Lines or JSON Array\n",
    "            first_line = file.readline().strip()\n",
    "            if first_line.startswith(\"{\"):\n",
    "                # JSON Lines: Process line by line\n",
    "                file.seek(0)  # Reset to the beginning of the file_manager.py\n",
    "                jobs = [json.loads(line) for line in file if line.strip()]\n",
    "            else:\n",
    "                # JSON Array: Parse as a whole\n",
    "                file.seek(0)\n",
    "                jobs = json.load(file)\n",
    "\n",
    "            if isinstance(jobs, list):\n",
    "                source_name = os.path.basename(file_path).replace('.json', '')\n",
    "\n",
    "                # Filter jobs to remove duplicates based on 'source' and 'job_title'\n",
    "                jobs_filtered = []\n",
    "                seen_jobs = set()  # Track unique jobs by a tuple (source, job_title)\n",
    "\n",
    "                for job in jobs:\n",
    "                    job[\"FROM\"] = source_name\n",
    "                    job_key = (job['source'], job['job_title'])\n",
    "\n",
    "                    if job_key not in seen_jobs:\n",
    "                        seen_jobs.add(job_key)\n",
    "                        jobs_filtered.append(job)\n",
    "\n",
    "                print(f\"After filtering: {len(jobs_filtered)} jobs to be inserted.\")\n",
    "\n",
    "                # Insert filtered jobs into the collection\n",
    "                if jobs_filtered:\n",
    "                    result = jobs_collection.insert_many(jobs_filtered)\n",
    "                    print(f\"{len(result.inserted_ids)} jobs successfully inserted from {source_name}!\")\n",
    "                else:\n",
    "                    print(\"No new jobs to insert after filtering.\")\n",
    "            else:\n",
    "                print(\"The JSON file_manager.py must contain a list of job objects.\")\n",
    "    except Exception as e:\n",
    "        print(f\"Error inserting jobs from {file_path}: {e}\")\n",
    "\n",
    "\n",
    "insert_jobs_from_json_updated(\n",
    "    r'C:\\Users\\אביב\\PycharmProjects\\jobFinder\\agents\\selenuim\\json_jobs\\linkedin_jobs.json.json')"
   ],
   "id": "5d5511f18ff8692",
   "outputs": [],
   "execution_count": null
  },
  {
   "metadata": {
    "ExecuteTime": {
     "end_time": "2024-12-06T09:46:17.001708Z",
     "start_time": "2024-12-06T09:46:16.995694Z"
    }
   },
   "cell_type": "code",
   "source": [
    "from pymongo import MongoClient\n",
    "\n",
    "\n",
    "def delete_jobs_by_source(source_value):\n",
    "    \"\"\"\n",
    "    Deletes all documents from the MongoDB collection where the FROM field matches the given value.\n",
    "\n",
    "    Args:\n",
    "        source_value (str): The value of the FROM field to filter and delete documents.\n",
    "    \n",
    "    Returns:\n",
    "        int: The number of documents deleted.\n",
    "    \"\"\"\n",
    "    try:\n",
    "        # Connect to MongoDB\n",
    "        client = MongoClient('mongodb://localhost:27017/')\n",
    "        db = client.job_database  # Replace with your database name\n",
    "        jobs_collection = db.jobs  # Replace with your collection name\n",
    "\n",
    "        # Define the filter for deletion\n",
    "        filter_query = {\"FROM\": source_value}\n",
    "\n",
    "        # Perform the deletion\n",
    "        result = jobs_collection.delete_many(filter_query)\n",
    "\n",
    "        # Log and return the result\n",
    "        print(f\"Deleted {result.deleted_count} documents where FROM='{source_value}'.\")\n",
    "        return result.deleted_count\n",
    "    except Exception as e:\n",
    "        print(f\"An error occurred: {e}\")\n",
    "        return 0\n"
   ],
   "id": "8c1dd31a47ce1b35",
   "outputs": [],
   "execution_count": 9
  },
  {
   "metadata": {
    "ExecuteTime": {
     "end_time": "2024-12-06T19:59:10.610657Z",
     "start_time": "2024-12-06T19:59:10.605149Z"
    }
   },
   "cell_type": "code",
   "source": [
    "insert_jobs_from_json_updated(\n",
    "    r'C:\\Users\\אביב\\PycharmProjects\\jobFinder\\agents\\selenuim\\json_jobs\\linkedin_jobs.json')"
   ],
   "id": "86df68a47f27f371",
   "outputs": [
    {
     "name": "stdout",
     "output_type": "stream",
     "text": [
      "Error inserting jobs from C:\\Users\\אביב\\PycharmProjects\\jobFinder\\agents\\selenuim\\json_jobs\\linke_jobs.json: [Errno 2] No such file or directory: 'C:\\\\Users\\\\אביב\\\\PycharmProjects\\\\jobFinder\\\\agents\\\\selenuim\\\\json_jobs\\\\linke_jobs.json'\n"
     ]
    }
   ],
   "execution_count": 11
  },
  {
   "metadata": {
    "ExecuteTime": {
     "end_time": "2024-11-29T16:37:08.083038Z",
     "start_time": "2024-11-29T16:37:08.053057Z"
    }
   },
   "cell_type": "code",
   "source": [
    "deleted_count = delete_jobs_by_source(\"drushimIL_jobs\")\n",
    "print(f\"Number of documents deleted: {deleted_count}\")"
   ],
   "id": "e69b2844efa10cc8",
   "outputs": [
    {
     "name": "stdout",
     "output_type": "stream",
     "text": [
      "Deleted 0 documents where FROM='drushimIL_jobs'.\n",
      "Number of documents deleted: 0\n"
     ]
    }
   ],
   "execution_count": 33
  },
  {
   "metadata": {},
   "cell_type": "code",
   "source": [
    "import os\n",
    "\n",
    "# Use os.getcwd() to get the current working directory\n",
    "current_path = os.getcwd()\n",
    "\n",
    "# Get the parent directory\n",
    "parent_directory = os.path.dirname(current_path)\n",
    "\n",
    "print(\"Current directory:\", current_path)\n",
    "print(\"Parent directory:\", parent_directory)\n"
   ],
   "id": "f63f3af0bc44024a",
   "outputs": [],
   "execution_count": null
  },
  {
   "metadata": {},
   "cell_type": "code",
   "source": "",
   "id": "5560fdff7b82bd5a",
   "outputs": [],
   "execution_count": null
  }
 ],
 "metadata": {
  "kernelspec": {
   "display_name": "Python 3",
   "language": "python",
   "name": "python3"
  },
  "language_info": {
   "codemirror_mode": {
    "name": "ipython",
    "version": 2
   },
   "file_extension": ".py",
   "mimetype": "text/x-python",
   "name": "python",
   "nbconvert_exporter": "python",
   "pygments_lexer": "ipython2",
   "version": "2.7.6"
  }
 },
 "nbformat": 4,
 "nbformat_minor": 5
}
